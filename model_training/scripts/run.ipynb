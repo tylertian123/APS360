{
  "cells": [
    {
      "cell_type": "markdown",
      "metadata": {
        "id": "Xc6vyOuLdBFb"
      },
      "source": [
        "# Run the model\n",
        "\n",
        "This code is for training the model. Please follow the instructions and run the code cells step by step for training and saving the model successfully:\n",
        "\n",
        "1. Import the notebook to your google colab\n",
        "    1. On the top bar, click on **File -> open notebook**\n",
        "    2. Click on **Upload -> GitHub**\n",
        "    3. Select tylertian123/APS360 as the repo and your desired branch\n",
        "    4. Import `model_training/scripts/run.ipynb`\n",
        "2. Set global level configuration for your git: Run the following code    "
      ]
    },
    {
      "cell_type": "code",
      "execution_count": 1,
      "metadata": {
        "id": "Emjm3mxFdBFd"
      },
      "outputs": [],
      "source": [
        "from IPython.display import clear_output\n",
        "\n",
        "# Get user's information\n",
        "username = input(\"Please insert your github username: \")\n",
        "mail = input(\"Please insert your github email address: \")\n",
        "\n",
        "# Configuration\n",
        "!git config --global user.name {username}\n",
        "!git config --global user.email {mail}\n",
        "\n",
        "clear_output()"
      ]
    },
    {
      "cell_type": "markdown",
      "metadata": {
        "id": "xWCTl_iedBFe"
      },
      "source": [
        "3. Generate a new token and clone the repo\n",
        "    1. Go to your github account and in the upper-right corner of any page, click your profile photo, and then **Settings**\n",
        "    2. On the left hand side, click on **Developer Settings**\n",
        "    3. Under **Personal access tokens**, click on **Tokens (classic)**\n",
        "    4. Click on **Generate new token (classic)**\n",
        "    5. Add the note on the purpose of using this token and modify the expiration date and scopes as you wish (for this project, **repo** option for the scope should be sufficient)\n",
        "    6. Scroll down and click on **Generate token**\n",
        "    7. Copy the generated token and save it somewhere safe. You can save your token on your local **APS360** repo in `token.txt` as it will be ignored while pushing\n",
        "    8. Run the following code"
      ]
    },
    {
      "cell_type": "code",
      "execution_count": 2,
      "metadata": {
        "id": "w0ULkGyOdBFe"
      },
      "outputs": [],
      "source": [
        "token = input(\"Please insert your github token: \")\n",
        "\n",
        "# Cloning\n",
        "!git clone https://{token}@github.com/tylertian123/APS360.git\n",
        "%cd APS360\n",
        "\n",
        "clear_output()"
      ]
    },
    {
      "cell_type": "markdown",
      "source": [
        "4. Import the dataset and unzip the file"
      ],
      "metadata": {
        "id": "xK9XJbjFR0Ml"
      }
    },
    {
      "cell_type": "code",
      "source": [],
      "metadata": {
        "id": "5M-YjfkWR3jt"
      },
      "execution_count": null,
      "outputs": []
    },
    {
      "cell_type": "markdown",
      "metadata": {
        "id": "gI__4-5he6oA"
      },
      "source": [
        "4. Commit your changes\n",
        "    1. If you want to update the `run.ipynb` file, click on **File -> Save a copy in GitHub**\n",
        "    2. Choose the right repo and branch, add the commit message, and click on **OK**\n",
        "    3. For saving the model(s) or any other change in the repo, use the git commands\n",
        "\n"
      ]
    },
    {
      "cell_type": "markdown",
      "metadata": {
        "id": "-O40ZPQVepXj"
      },
      "source": [
        "Use the following cell for any git command that you need\n"
      ]
    },
    {
      "cell_type": "code",
      "execution_count": null,
      "metadata": {
        "colab": {
          "base_uri": "https://localhost:8080/"
        },
        "id": "2xDjPUDSdwHh",
        "outputId": "e949e5a9-987d-4263-9d9d-add6c52b6681"
      },
      "outputs": [
        {
          "name": "stdout",
          "output_type": "stream",
          "text": [
            "On branch master\n",
            "Your branch is up to date with 'origin/master'.\n",
            "\n",
            "nothing to commit, working tree clean\n",
            "Already up to date.\n",
            "Everything up-to-date\n"
          ]
        }
      ],
      "source": [
        "!git add .\n",
        "!git commit -m \"Removed extra print statements\"\n",
        "!git pull\n",
        "!git push"
      ]
    }
  ],
  "metadata": {
    "accelerator": "GPU",
    "colab": {
      "gpuType": "T4",
      "provenance": []
    },
    "kernelspec": {
      "display_name": "Python 3",
      "name": "python3"
    },
    "language_info": {
      "name": "python"
    }
  },
  "nbformat": 4,
  "nbformat_minor": 0
}