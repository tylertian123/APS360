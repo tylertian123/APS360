{
 "cells": [
  {
   "cell_type": "markdown",
   "metadata": {},
   "source": [
    "# Run the model\n",
    "\n",
    "This code is for training the model. Please follow the instructions and run the code cells step by step for training and saving the model successfully:\n",
    "\n",
    "1. Import the notebook to your google colab\n",
    "    1. On the top bar, click on **File -> open notebook**\n",
    "    2. Click on **Browse** and import `~/APS360/model_training/scripts/run.ipynb`\n",
    "    Note: This instruction is by the assumption that the repo is already cloned locally.\n",
    "2. Set global level configuration for your git: Run the following code    "
   ]
  },
  {
   "cell_type": "code",
   "execution_count": null,
   "metadata": {},
   "outputs": [],
   "source": [
    "# Get user's information\n",
    "username = input(\"Please insert your github username: \")\n",
    "mail = input(\"Please insert your github email address: \")\n",
    "\n",
    "# Configuration\n",
    "!git config --global user.name {username}\n",
    "!git config --global user.email {mail}"
   ]
  },
  {
   "cell_type": "markdown",
   "metadata": {},
   "source": [
    "2. Generate a new token and clone the repo\n",
    "    1. Go to your github account and in the upper-right corner of any page, click your profile photo, and then **Settings**\n",
    "    2. On the left hand side, click on **Developer Settings**\n",
    "    3. Under **Personal access tokens**, click on **Tokens (classic)**\n",
    "    4. Click on **Generate new token (classic)**\n",
    "    5. Add the note on the purpose of using this token and modify the expiration date and scopes as you wish (for this project, **repo** option for the scope should be sufficient)\n",
    "    6. Scroll down and click on **Generate token**\n",
    "    7. Copy the generated token and save it somewhere safe. You can save your token on your local **APS360** repo in `token.txt` as it will be ignored while pushing\n",
    "    8. Run the following code"
   ]
  },
  {
   "cell_type": "code",
   "execution_count": null,
   "metadata": {},
   "outputs": [],
   "source": [
    "token = input(\"Please insert your github token: \")\n",
    "\n",
    "# Cloning\n",
    "!git clone https://{token}@github.com/tylertian123/APS360.git\n",
    "%cd APS360"
   ]
  }
 ],
 "metadata": {
  "language_info": {
   "name": "python"
  }
 },
 "nbformat": 4,
 "nbformat_minor": 2
}
